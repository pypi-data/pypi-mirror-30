{
 "cells": [
  {
   "cell_type": "raw",
   "metadata": {},
   "source": [
    "The pytesmo validation framework\n",
    "================================\n",
    "\n",
    "The pytesmo validation framework takes care of iterating over datasets,\n",
    "spatial and temporal matching as well as sclaing. It uses metric\n",
    "calculators to then calculate metrics that are returned to the user.\n",
    "There are several metrics calculators included in pytesmo but new ones\n",
    "can be added simply by writing a new class.\n",
    "\n",
    "Overview\n",
    "--------\n",
    "\n",
    "How does the validation framework work? It makes these assumptions about\n",
    "the used datasets:\n",
    "\n",
    "-  The dataset readers that are used have a ``read_ts`` method that can\n",
    "   be called either by a grid point index (gpi) which can be any\n",
    "   indicator that identifies a certain grid point or by using longitude\n",
    "   and latitude. This means that both call signatures ``read_ts(gpi)``\n",
    "   and ``read_ts(lon, lat)`` must be valid. Please check the\n",
    "   `pygeobase <https://github.com/TUW-GEO/pygeobase>`__ documentation\n",
    "   for more details on how a fully compatible dataset class should look.\n",
    "   But a simple ``read_ts`` method should do for the validation\n",
    "   framework. This assumption can be relaxed by using the\n",
    "   ``read_ts_names`` keyword in the\n",
    "   pytesmo.validation\\_framework.data\\_manager.DataManager class.\n",
    "-  The ``read_ts`` method returns a pandas.DataFrame time series.\n",
    "-  Ideally the datasets classes also have a ``grid`` attribute that is a\n",
    "   `pygeogrids <http://pygeogrids.readthedocs.org/en/latest/>`__ grid.\n",
    "   This makes the calculation of lookup tables easily possible and the\n",
    "   nearest neighbor search faster.\n",
    "\n",
    "Fortunately these assumptions are true about the dataset readers\n",
    "included in pytesmo.\n",
    "\n",
    "It also makes a few assumptions about how to perform a validation. For a\n",
    "comparison study it is often necessary to choose a spatial reference\n",
    "grid, a temporal reference and a scaling or data space reference.\n",
    "\n",
    "Spatial reference\n",
    "~~~~~~~~~~~~~~~~~\n",
    "\n",
    "The spatial reference is the one to which all the other datasets are\n",
    "matched spatially. Often through nearest neighbor search. The validation\n",
    "framework uses grid points of the dataset specified as the spatial\n",
    "reference to spatially match all the other datasets with nearest\n",
    "neighbor search. Other, more sophisticated spatial matching algorithms\n",
    "are not implemented at the moment. If you need a more complex spatial\n",
    "matching then a preprocessing of the data is the only option at the\n",
    "moment.\n",
    "\n",
    "Temporal reference\n",
    "~~~~~~~~~~~~~~~~~~\n",
    "\n",
    "The temporal reference is the dataset to which the other dataset are\n",
    "temporally matched. That means that the nearest observation to the\n",
    "reference timestamps in a certain time window is chosen for each\n",
    "comparison dataset. This is by default done by the temporal matching\n",
    "module included in pytesmo. How many datasets should be matched to the\n",
    "reference dataset at once can be configured, we will cover how to do\n",
    "this later.\n",
    "\n",
    "Data space reference\n",
    "~~~~~~~~~~~~~~~~~~~~\n",
    "\n",
    "It is often necessary to bring all the datasets into a common data space\n",
    "by using scaling. Pytesmo offers a choice of several scaling algorithms\n",
    "(e.g. CDF matching, min-max scaling, mean-std scaling, triple\n",
    "collocation based scaling). The data space reference can also be chosen\n",
    "independently from the other two references. New scaling methods can be\n",
    "implemented by writing a scaler class. An example of a scaler class can\n",
    "be found in the\n",
    ":py:class:`pytesmo.validation_framework.data_scalers.DefaultScaler`.\n",
    "\n",
    "Data Flow\n",
    "---------\n",
    "\n",
    "After it is initialized, the validation framework works through the\n",
    "following steps:\n",
    "\n",
    "1. Read all the datasets for a certain job (gpi, lon, lat)\n",
    "2. Read all the masking datasets if any\n",
    "3. Mask the temporal reference dataset using the masking data\n",
    "4. Temporally match all the chosen combinations of temporal reference\n",
    "   and other datasets\n",
    "5. Scale all datasets into the data space of the data space reference,\n",
    "   if scaling is activated\n",
    "6. Turn the temporally matched time series over to the metric\n",
    "   calculators\n",
    "7. Get the calculated metrics from the metric calculators\n",
    "8. Put all the metrics into a dictionary by dataset combination and\n",
    "   return them.\n",
    "\n",
    "Masking datasets\n",
    "----------------\n",
    "\n",
    "Masking datasets can be used if the the datasets that are compared do\n",
    "not contain the necessary information to mask them. For example we might\n",
    "want to use modelled soil temperature data to mask our soil moisture\n",
    "observations before comparing them. To be able to do that we just need a\n",
    "Dataset that returns a pandas.DataFrame with one column of boolean data\n",
    "type. Everywhere where the masking dataset is ``True`` the data will be\n",
    "masked.\n",
    "\n",
    "Let's look at a first example.\n"
   ]
  },
  {
   "cell_type": "markdown",
   "metadata": {},
   "source": [
    "## Example soil moisture validation: ASCAT - ISMN"
   ]
  },
  {
   "cell_type": "markdown",
   "metadata": {},
   "source": [
    "This example shows how to setup the pytesmo validation framework to perform a comparison between ASCAT and ISMN data. "
   ]
  },
  {
   "cell_type": "code",
   "execution_count": 2,
   "metadata": {
    "collapsed": false
   },
   "outputs": [
    {
     "name": "stderr",
     "output_type": "stream",
     "text": [
      "/home/cpa/.pyenv/versions/miniconda-3.16.0/envs/pytesmo/lib/python2.7/site-packages/matplotlib/font_manager.py:273: UserWarning: Matplotlib is building the font cache using fc-list. This may take a moment.\n",
      "  warnings.warn('Matplotlib is building the font cache using fc-list. This may take a moment.')\n"
     ]
    }
   ],
   "source": [
    "import os\n",
    "import tempfile\n",
    "\n",
    "import pytesmo.validation_framework.metric_calculators as metrics_calculators\n",
    "\n",
    "from datetime import datetime\n",
    "\n",
    "from ascat.timeseries import AscatSsmCdr\n",
    "from pytesmo.io.ismn.interface import ISMN_Interface\n",
    "from pytesmo.validation_framework.validation import Validation\n",
    "from pytesmo.validation_framework.results_manager import netcdf_results_manager"
   ]
  },
  {
   "cell_type": "markdown",
   "metadata": {},
   "source": [
    "First we initialize the data readers that we want to use. In this case the ASCAT soil moisture time series and in situ data from the ISMN. \n",
    "\n",
    "Initialize ASCAT reader"
   ]
  },
  {
   "cell_type": "code",
   "execution_count": 19,
   "metadata": {
    "collapsed": false
   },
   "outputs": [],
   "source": [
    "ascat_data_folder = os.path.join('/home', 'cpa', 'workspace', 'pytesmo',\n",
    "                                 'tests', 'test-data', 'sat', 'ascat', 'netcdf', '55R22')\n",
    "ascat_grid_folder = os.path.join('/media/sf_R', 'Datapool_processed', 'WARP',\n",
    "                                 'ancillary', 'warp5_grid')\n",
    "static_layers_folder = os.path.join('/home', 'cpa', 'workspace', 'pytesmo',\n",
    "                                    'tests', 'test-data', 'sat',\n",
    "                                    'h_saf', 'static_layer')\n",
    "\n",
    "\n",
    "ascat_reader = AscatSsmCdr(ascat_data_folder, ascat_grid_folder,\n",
    "                           static_layer_path=static_layers_folder)"
   ]
  },
  {
   "cell_type": "markdown",
   "metadata": {},
   "source": [
    "Initialize ISMN reader"
   ]
  },
  {
   "cell_type": "code",
   "execution_count": 20,
   "metadata": {
    "collapsed": true
   },
   "outputs": [],
   "source": [
    "ismn_data_folder = '/data/Development/python/workspace/pytesmo/tests/test-data/ismn/multinetwork/header_values/'\n",
    "ismn_reader = ISMN_Interface(ismn_data_folder)"
   ]
  },
  {
   "cell_type": "markdown",
   "metadata": {},
   "source": [
    "The validation is run based on jobs. A job consists of at least three lists or numpy arrays specifing the grid point index, its latitude and longitude. In the case of the ISMN we can use the `dataset_ids` that identify every time series in the downloaded ISMN data as our grid point index. We can then get longitude and latitude from the metadata of the dataset.\n",
    "\n",
    "**DO NOT CHANGE** the name ***jobs*** because it will be searched during the parallel processing!"
   ]
  },
  {
   "cell_type": "code",
   "execution_count": 21,
   "metadata": {
    "collapsed": false
   },
   "outputs": [
    {
     "name": "stdout",
     "output_type": "stream",
     "text": [
      "[(0, 102.13330000000001, 33.666600000000003), (1, 102.13330000000001, 33.883299999999998), (2, -120.9675, 38.430030000000002), (3, -120.78559, 38.149560000000001), (4, -120.80638999999999, 38.17353), (5, -105.417, 34.25), (6, -97.082999999999998, 37.133000000000003), (7, -86.549999999999997, 34.783000000000001)]\n"
     ]
    }
   ],
   "source": [
    "jobs = []\n",
    "\n",
    "ids = ismn_reader.get_dataset_ids(variable='soil moisture', min_depth=0, max_depth=0.1)\n",
    "for idx in ids:\n",
    "    metadata = ismn_reader.metadata[idx]\n",
    "    jobs.append((idx, metadata['longitude'], metadata['latitude']))\n",
    "print jobs"
   ]
  },
  {
   "cell_type": "markdown",
   "metadata": {},
   "source": [
    "For this small test dataset it is only one job\n",
    "\n",
    "It is important here that the ISMN reader has a read_ts function that works by just using the `dataset_id`. In this way the validation framework can go through the jobs and read the correct time series."
   ]
  },
  {
   "cell_type": "code",
   "execution_count": 22,
   "metadata": {
    "collapsed": false
   },
   "outputs": [
    {
     "name": "stdout",
     "output_type": "stream",
     "text": [
      "                     soil moisture soil moisture_flag soil moisture_orig_flag\n",
      "date_time                                                                    \n",
      "2008-07-01 00:00:00           0.45                  U                       M\n",
      "2008-07-01 01:00:00           0.45                  U                       M\n",
      "2008-07-01 02:00:00           0.45                  U                       M\n",
      "2008-07-01 03:00:00           0.45                  U                       M\n",
      "2008-07-01 04:00:00           0.45                  U                       M\n"
     ]
    }
   ],
   "source": [
    "data = ismn_reader.read_ts(ids[0])\n",
    "print data.head()"
   ]
  },
  {
   "cell_type": "markdown",
   "metadata": {},
   "source": [
    "## Initialize the Validation class\n",
    "\n",
    "The Validation class is the heart of the validation framwork. It contains the information about which datasets to read using which arguments or keywords and if they are spatially compatible. It also contains the settings about which metric calculators to use and how to perform the scaling into the reference data space. It is initialized in the following way:"
   ]
  },
  {
   "cell_type": "code",
   "execution_count": 23,
   "metadata": {
    "collapsed": true
   },
   "outputs": [],
   "source": [
    "datasets = {'ISMN': {'class': ismn_reader, \n",
    "                     'columns': ['soil moisture']},\n",
    "            'ASCAT': {'class': ascat_reader, 'columns': ['sm'],\n",
    "                      'kwargs': {'mask_frozen_prob': 80,\n",
    "                                 'mask_snow_prob': 80,\n",
    "                                 'mask_ssf': True}}\n",
    "           }"
   ]
  },
  {
   "cell_type": "markdown",
   "metadata": {},
   "source": [
    "The datasets dictionary contains all the information about the datasets to read. The `class` is the dataset class to use which we have already initialized. The `columns` key describes which columns of the dataset interest us for validation. This a mandatory field telling the framework which other columns to ignore. In this case the columns `soil moisture_flag` and `soil moisture_orig_flag` will be ignored by the ISMN reader. We can also specify additional keywords that should be given to the `read_ts` method of the dataset reader. In this case we want the ASCAT reader to mask the ASCAT soil moisture using the included frozen and snow probabilities as well as the SSF. There are also other keys that can be used here. Please see the documentation for explanations."
   ]
  },
  {
   "cell_type": "code",
   "execution_count": 24,
   "metadata": {
    "collapsed": false
   },
   "outputs": [],
   "source": [
    "period = [datetime(2007, 1, 1), datetime(2014, 12, 31)]\n",
    "basic_metrics = metrics_calculators.BasicMetrics(other_name='k1')\n",
    "\n",
    "process = Validation(\n",
    "    datasets, 'ISMN', {(2, 2): basic_metrics.calc_metrics},\n",
    "    temporal_ref='ASCAT',\n",
    "    scaling='lin_cdf_match',\n",
    "    scaling_ref='ASCAT',   \n",
    "    period=period)\n"
   ]
  },
  {
   "cell_type": "markdown",
   "metadata": {},
   "source": [
    "During the initialization of the Validation class we can also tell it other things that it needs to know. In this case it uses the datasets we have specified earlier. The spatial reference is the `'ISMN'` dataset which is the second argument. The third argument looks a little bit strange so let's look at it in more detail.\n",
    "\n",
    "It is a dictionary with a tuple as the key and a function as the value. The key tuple `(n, k)` has the following meaning: `n` datasets are temporally matched together and then given in sets of `k` columns to the metric calculator. The metric calculator then gets a DataFrame with the columns ['ref', 'k1', 'k2' ...] and so on depending on the value of k. The value of `(2, 2)` makes sense here since we only have two datasets and all our metrics also take two inputs. \n",
    "\n",
    "This can be used in more complex scenarios to e.g. have three input datasets that are all temporally matched together and then combinations of two input datasets are given to one metric calculator while all three datasets are given to another metric calculator. This could look like this:\n",
    "\n",
    "```python\n",
    "{ (3 ,2): metric_calc,\n",
    "  (3, 3): triple_collocation}\n",
    "```"
   ]
  },
  {
   "cell_type": "markdown",
   "metadata": {},
   "source": [
    "Create the variable ***save_path*** which is a string representing the path where the results will be saved. **DO NOT CHANGE** the name ***save_path*** because it will be searched during the parallel processing!"
   ]
  },
  {
   "cell_type": "code",
   "execution_count": 25,
   "metadata": {
    "collapsed": true
   },
   "outputs": [],
   "source": [
    "save_path = tempfile.mkdtemp()"
   ]
  },
  {
   "cell_type": "code",
   "execution_count": 26,
   "metadata": {
    "collapsed": false
   },
   "outputs": [
    {
     "name": "stderr",
     "output_type": "stream",
     "text": [
      "/home/cpa/.pyenv/versions/miniconda-3.16.0/envs/pytesmo/lib/python2.7/site-packages/pandas/core/reshape/merge.py:551: UserWarning: merging between different levels can give an unintended result (1 levels on the left, 2 on the right)\n",
      "  warnings.warn(msg, UserWarning)\n",
      "/home/cpa/.pyenv/versions/miniconda-3.16.0/envs/pytesmo/lib/python2.7/site-packages/pandas/core/reshape/merge.py:551: UserWarning: merging between different levels can give an unintended result (2 levels on the left, 1 on the right)\n",
      "  warnings.warn(msg, UserWarning)\n"
     ]
    },
    {
     "name": "stdout",
     "output_type": "stream",
     "text": [
      "{(('ASCAT', 'sm'), ('ISMN', 'soil moisture')): {'BIAS': array([-0.04330891], dtype=float32),\n",
      "                                                'R': array([ 0.7128256], dtype=float32),\n",
      "                                                'RMSD': array([ 7.72966719], dtype=float32),\n",
      "                                                'gpi': array([0], dtype=int32),\n",
      "                                                'lat': array([ 33.6666]),\n",
      "                                                'lon': array([ 102.1333]),\n",
      "                                                'n_obs': array([384], dtype=int32),\n",
      "                                                'p_R': array([ 0.], dtype=float32),\n",
      "                                                'p_rho': array([ 0.], dtype=float32),\n",
      "                                                'p_tau': array([ nan], dtype=float32),\n",
      "                                                'rho': array([ 0.70022893], dtype=float32),\n",
      "                                                'tau': array([ nan], dtype=float32)}}\n",
      "{(('ASCAT', 'sm'), ('ISMN', 'soil moisture')): {'BIAS': array([ 0.237454], dtype=float32),\n",
      "                                                'R': array([ 0.4996146], dtype=float32),\n",
      "                                                'RMSD': array([ 11.58347607], dtype=float32),\n",
      "                                                'gpi': array([1], dtype=int32),\n",
      "                                                'lat': array([ 33.8833]),\n",
      "                                                'lon': array([ 102.1333]),\n",
      "                                                'n_obs': array([357], dtype=int32),\n",
      "                                                'p_R': array([  6.12721281e-24], dtype=float32),\n",
      "                                                'p_rho': array([  2.47165110e-28], dtype=float32),\n",
      "                                                'p_tau': array([ nan], dtype=float32),\n",
      "                                                'rho': array([ 0.53934574], dtype=float32),\n",
      "                                                'tau': array([ nan], dtype=float32)}}\n",
      "{(('ASCAT', 'sm'), ('ISMN', 'soil moisture')): {'BIAS': array([-0.63301021], dtype=float32),\n",
      "                                                'R': array([ 0.78071409], dtype=float32),\n",
      "                                                'RMSD': array([ 14.57700157], dtype=float32),\n",
      "                                                'gpi': array([2], dtype=int32),\n",
      "                                                'lat': array([ 38.43003]),\n",
      "                                                'lon': array([-120.9675]),\n",
      "                                                'n_obs': array([482], dtype=int32),\n",
      "                                                'p_R': array([ 0.], dtype=float32),\n",
      "                                                'p_rho': array([ 0.], dtype=float32),\n",
      "                                                'p_tau': array([ nan], dtype=float32),\n",
      "                                                'rho': array([ 0.69356072], dtype=float32),\n",
      "                                                'tau': array([ nan], dtype=float32)}}\n",
      "{(('ASCAT', 'sm'), ('ISMN', 'soil moisture')): {'BIAS': array([-1.9682411], dtype=float32),\n",
      "                                                'R': array([ 0.79960084], dtype=float32),\n",
      "                                                'RMSD': array([ 13.06224251], dtype=float32),\n",
      "                                                'gpi': array([3], dtype=int32),\n",
      "                                                'lat': array([ 38.14956]),\n",
      "                                                'lon': array([-120.78559]),\n",
      "                                                'n_obs': array([141], dtype=int32),\n",
      "                                                'p_R': array([  1.38538225e-32], dtype=float32),\n",
      "                                                'p_rho': array([  4.62621032e-39], dtype=float32),\n",
      "                                                'p_tau': array([ nan], dtype=float32),\n",
      "                                                'rho': array([ 0.84189808], dtype=float32),\n",
      "                                                'tau': array([ nan], dtype=float32)}}\n",
      "{(('ASCAT', 'sm'), ('ISMN', 'soil moisture')): {'BIAS': array([-0.21823417], dtype=float32),\n",
      "                                                'R': array([ 0.80635566], dtype=float32),\n",
      "                                                'RMSD': array([ 12.90389824], dtype=float32),\n",
      "                                                'gpi': array([4], dtype=int32),\n",
      "                                                'lat': array([ 38.17353]),\n",
      "                                                'lon': array([-120.80639]),\n",
      "                                                'n_obs': array([251], dtype=int32),\n",
      "                                                'p_R': array([ 0.], dtype=float32),\n",
      "                                                'p_rho': array([  4.20389539e-45], dtype=float32),\n",
      "                                                'p_tau': array([ nan], dtype=float32),\n",
      "                                                'rho': array([ 0.74206454], dtype=float32),\n",
      "                                                'tau': array([ nan], dtype=float32)}}\n",
      "{(('ASCAT', 'sm'), ('ISMN', 'soil moisture')): {'BIAS': array([-0.14228749], dtype=float32),\n",
      "                                                'R': array([ 0.50703788], dtype=float32),\n",
      "                                                'RMSD': array([ 14.24668026], dtype=float32),\n",
      "                                                'gpi': array([5], dtype=int32),\n",
      "                                                'lat': array([ 34.25]),\n",
      "                                                'lon': array([-105.417]),\n",
      "                                                'n_obs': array([1927], dtype=int32),\n",
      "                                                'p_R': array([ 0.], dtype=float32),\n",
      "                                                'p_rho': array([  3.32948515e-42], dtype=float32),\n",
      "                                                'p_tau': array([ nan], dtype=float32),\n",
      "                                                'rho': array([ 0.30299741], dtype=float32),\n",
      "                                                'tau': array([ nan], dtype=float32)}}\n",
      "{(('ASCAT', 'sm'), ('ISMN', 'soil moisture')): {'BIAS': array([ 0.2600247], dtype=float32),\n",
      "                                                'R': array([ 0.53643185], dtype=float32),\n",
      "                                                'RMSD': array([ 21.19682884], dtype=float32),\n",
      "                                                'gpi': array([6], dtype=int32),\n",
      "                                                'lat': array([ 37.133]),\n",
      "                                                'lon': array([-97.083]),\n",
      "                                                'n_obs': array([1887], dtype=int32),\n",
      "                                                'p_R': array([ 0.], dtype=float32),\n",
      "                                                'p_rho': array([ 0.], dtype=float32),\n",
      "                                                'p_tau': array([ nan], dtype=float32),\n",
      "                                                'rho': array([ 0.53143877], dtype=float32),\n",
      "                                                'tau': array([ nan], dtype=float32)}}\n",
      "{(('ASCAT', 'sm'), ('ISMN', 'soil moisture')): {'BIAS': array([-0.04437888], dtype=float32),\n",
      "                                                'R': array([ 0.6058206], dtype=float32),\n",
      "                                                'RMSD': array([ 17.3883934], dtype=float32),\n",
      "                                                'gpi': array([7], dtype=int32),\n",
      "                                                'lat': array([ 34.783]),\n",
      "                                                'lon': array([-86.55]),\n",
      "                                                'n_obs': array([1652], dtype=int32),\n",
      "                                                'p_R': array([ 0.], dtype=float32),\n",
      "                                                'p_rho': array([ 0.], dtype=float32),\n",
      "                                                'p_tau': array([ nan], dtype=float32),\n",
      "                                                'rho': array([ 0.62204134], dtype=float32),\n",
      "                                                'tau': array([ nan], dtype=float32)}}\n"
     ]
    }
   ],
   "source": [
    "import pprint\n",
    "for job in jobs:\n",
    "    \n",
    "    results = process.calc(*job)\n",
    "    pprint.pprint(results)\n",
    "    netcdf_results_manager(results, save_path)\n"
   ]
  },
  {
   "cell_type": "markdown",
   "metadata": {},
   "source": [
    "The validation is then performed by looping over all the defined jobs and storing the results. \n",
    "You can see that the results are a dictionary where the key is a tuple defining the exact combination of datasets and columns that were used for the calculation of the metrics. The metrics itself are a dictionary of `metric-name: numpy.ndarray` which also include information about the gpi, lon and lat. Since all the information contained in the job is given to the metric calculator they can be stored in the results.\n",
    "\n",
    "Storing of the results to disk is at the moment supported by the `netcdf_results_manager` which creates a netCDF file for each dataset combination and stores each metric as a variable. We can inspect the stored netCDF file which is named after the dictionary key:"
   ]
  },
  {
   "cell_type": "code",
   "execution_count": 27,
   "metadata": {
    "collapsed": false
   },
   "outputs": [
    {
     "name": "stdout",
     "output_type": "stream",
     "text": [
      "n_obs [ 384  357  482  141  251 1927 1887 1652]\n",
      "tau [ nan  nan  nan  nan  nan  nan  nan  nan]\n",
      "gpi [0 1 2 3 4 5 6 7]\n",
      "RMSD [  7.72966719  11.58347607  14.57700157  13.06224251  12.90389824\n",
      "  14.24668026  21.19682884  17.3883934 ]\n",
      "lon [ 102.1333   102.1333  -120.9675  -120.78559 -120.80639 -105.417    -97.083\n",
      "  -86.55   ]\n",
      "p_tau [ nan  nan  nan  nan  nan  nan  nan  nan]\n",
      "BIAS [-0.04330891  0.237454   -0.63301021 -1.9682411  -0.21823417 -0.14228749\n",
      "  0.2600247  -0.04437888]\n",
      "p_rho [  0.00000000e+00   2.47165110e-28   0.00000000e+00   4.62621032e-39\n",
      "   4.20389539e-45   3.32948515e-42   0.00000000e+00   0.00000000e+00]\n",
      "rho [ 0.70022893  0.53934574  0.69356072  0.84189808  0.74206454  0.30299741\n",
      "  0.53143877  0.62204134]\n",
      "lat [ 33.6666   33.8833   38.43003  38.14956  38.17353  34.25     37.133\n",
      "  34.783  ]\n",
      "R [ 0.7128256   0.4996146   0.78071409  0.79960084  0.80635566  0.50703788\n",
      "  0.53643185  0.6058206 ]\n",
      "p_R [  0.00000000e+00   6.12721281e-24   0.00000000e+00   1.38538225e-32\n",
      "   0.00000000e+00   0.00000000e+00   0.00000000e+00   0.00000000e+00]\n"
     ]
    }
   ],
   "source": [
    "import netCDF4\n",
    "results_fname = os.path.join(save_path, 'ASCAT.sm_with_ISMN.soil moisture.nc')\n",
    "\n",
    "with netCDF4.Dataset(results_fname) as ds:\n",
    "    for var in ds.variables:\n",
    "        print var, ds.variables[var][:]"
   ]
  },
  {
   "cell_type": "markdown",
   "metadata": {},
   "source": [
    "## Parallel processing\n",
    "\n",
    "The same code can be executed in parallel by defining the following `start_processing` function."
   ]
  },
  {
   "cell_type": "code",
   "execution_count": 28,
   "metadata": {
    "collapsed": true
   },
   "outputs": [],
   "source": [
    "def start_processing(job):\n",
    "    try:\n",
    "        return process.calc(*job)\n",
    "    except RuntimeError:\n",
    "        return process.calc(*job)"
   ]
  },
  {
   "cell_type": "markdown",
   "metadata": {},
   "source": [
    "`pytesmo.validation_framework.start_validation` can then be used to run your validation in parallel. \n",
    "Your setup code can look like this Ipython notebook without the loop over the jobs. Otherwise the validation would be done twice. Save it into a `.py` file e.g. `my_validation.py`.\n",
    "\n",
    "After [starting the ipyparallel cluster](http://ipyparallel.readthedocs.org/en/latest/process.html) you can then execute the following code:"
   ]
  },
  {
   "cell_type": "markdown",
   "metadata": {
    "collapsed": true
   },
   "source": [
    "```python\n",
    "from pytesmo.validation_framework import start_validation\n",
    "\n",
    "# Note that before starting the validation you must start a controller\n",
    "# and engines, for example by using: ipcluster start -n 4\n",
    "# This command will launch a controller and 4 engines on the local machine.\n",
    "# Also, do not forget to change the setup_code path to your current setup.\n",
    "\n",
    "setup_code = \"my_validation.py\"\n",
    "start_validation(setup_code)\n",
    "```"
   ]
  },
  {
   "cell_type": "markdown",
   "metadata": {},
   "source": [
    "## Masking datasets\n",
    "\n",
    "Masking datasets are datasets that return a pandas DataFrame with boolean values. `True` means that the observation should be masked, `False` means it should be kept. All masking datasets are temporally matched in pairs to the temporal reference dataset. Only observations for which all masking datasets have a value of `False` are kept for further validation.\n",
    "\n",
    "The masking datasets have the same format as the dataset dictionary and can be specified in the Validation class with the `masking_datasets` keyword.\n",
    "\n",
    "### Masking adapter\n",
    "\n",
    "To easily transform an existing dataset into a masking dataset `pytesmo` offers a adapter class that calls the `read_ts` method of an existing dataset and performs the masking based on an operator and a given threshold."
   ]
  },
  {
   "cell_type": "code",
   "execution_count": 29,
   "metadata": {
    "collapsed": false
   },
   "outputs": [
    {
     "name": "stdout",
     "output_type": "stream",
     "text": [
      "date_time\n",
      "2008-07-01 00:00:00    False\n",
      "2008-07-01 01:00:00    False\n",
      "2008-07-01 02:00:00    False\n",
      "2008-07-01 03:00:00    False\n",
      "2008-07-01 04:00:00    False\n",
      "Name: soil moisture, dtype: bool\n"
     ]
    }
   ],
   "source": [
    "from pytesmo.validation_framework.adapters import MaskingAdapter\n",
    "\n",
    "ds_mask = MaskingAdapter(ismn_reader, '<', 0.2)\n",
    "print ds_mask.read_ts(ids[0])['soil moisture'].head()"
   ]
  },
  {
   "cell_type": "code",
   "execution_count": null,
   "metadata": {
    "collapsed": true
   },
   "outputs": [],
   "source": []
  }
 ],
 "metadata": {
  "kernelspec": {
   "display_name": "Python 2",
   "language": "python",
   "name": "python2"
  },
  "language_info": {
   "codemirror_mode": {
    "name": "ipython",
    "version": 2
   },
   "file_extension": ".py",
   "mimetype": "text/x-python",
   "name": "python",
   "nbconvert_exporter": "python",
   "pygments_lexer": "ipython2",
   "version": "2.7.11"
  }
 },
 "nbformat": 4,
 "nbformat_minor": 0
}
