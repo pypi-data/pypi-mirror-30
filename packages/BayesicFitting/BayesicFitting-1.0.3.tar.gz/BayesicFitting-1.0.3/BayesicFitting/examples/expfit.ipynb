{
 "cells": [
  {
   "cell_type": "markdown",
   "metadata": {},
   "source": [
    "## Exponential decay process \n",
    "\n",
    "Demonstration: \n",
    "    1. Counting data from a exponentially decaying process\n",
    "    2. Exponential model\n",
    "    3. Maximum likelihood with Poisson error distribution.\n",
    "    4. AmoebaFitter with other error distributions.\n",
    "\n",
    "Author: Do Kester\n"
   ]
  },
  {
   "cell_type": "markdown",
   "metadata": {},
   "source": [
    "import classes"
   ]
  },
  {
   "cell_type": "code",
   "execution_count": 1,
   "metadata": {},
   "outputs": [],
   "source": [
    "import numpy as numpy\n",
    "import math\n",
    "\n",
    "from BayesicFitting import ExpModel\n",
    "from BayesicFitting import PolynomialModel\n",
    "from BayesicFitting import PoissonErrorDistribution\n",
    "from BayesicFitting import AmoebaFitter\n",
    "from BayesicFitting import formatter as fmt\n",
    "from BayesicFitting import plotFit\n",
    "from BayesicFitting import printclass\n",
    "import matplotlib.pyplot as plt\n"
   ]
  },
  {
   "cell_type": "markdown",
   "metadata": {},
   "source": [
    "define some constants"
   ]
  },
  {
   "cell_type": "code",
   "execution_count": 2,
   "metadata": {},
   "outputs": [],
   "source": [
    "N = 201\n",
    "a = 17.8\n",
    "b = -0.2"
   ]
  },
  {
   "cell_type": "markdown",
   "metadata": {},
   "source": [
    "make a 3-degree polynomial"
   ]
  },
  {
   "cell_type": "code",
   "execution_count": 3,
   "metadata": {},
   "outputs": [
    {
     "data": {
      "image/png": "[encoded data removed]",
      "text/plain": [
       "<matplotlib.figure.Figure at 0x10aeec2e8>"
      ]
     },
     "metadata": {},
     "output_type": "display_data"
    }
   ],
   "source": [
    "x = numpy.linspace( 0.0, 20.0, N, dtype=float )\n",
    "ym = a * numpy.exp( b * x )\n",
    "\n",
    "#y = ym + numpy.random.lognormal( ym, numpy.sqrt( ym ), N )\n",
    "#y = numpy.asarray( y, dtype=int )\n",
    "y = numpy.random.poisson( ym )\n",
    "# plot the data along with the \"truth\"\n",
    "plotFit( x, y, show=False )\n",
    "plt.plot( x, ym, 'b+')\n",
    "plt.show()"
   ]
  },
  {
   "cell_type": "markdown",
   "metadata": {},
   "source": [
    "Define the model"
   ]
  },
  {
   "cell_type": "code",
   "execution_count": 4,
   "metadata": {},
   "outputs": [
    {
     "name": "stdout",
     "output_type": "stream",
     "text": [
      "Exp: f( x:p ) = p_0 * exp( p_1 * x )\n"
     ]
    }
   ],
   "source": [
    "mdl = ExpModel( )\n",
    "print( mdl )\n"
   ]
  },
  {
   "cell_type": "markdown",
   "metadata": {},
   "source": [
    "define the fitter: AmoebaFitter with error distribution"
   ]
  },
  {
   "cell_type": "code",
   "execution_count": 5,
   "metadata": {},
   "outputs": [
    {
     "name": "stdout",
     "output_type": "stream",
     "text": [
      "+++++++++++++++++++++++++++++++++++++++++++++++++++++++\n",
      "AmoebaFitter\n",
      "+++++++++++++++++++++++++++++++++++++++++++++++++++++++\n",
      "chisq           760.5338250584622\n",
      "errdis          poisson\n",
      "fitIndex        None\n",
      "fixedScale      None\n",
      "imageAssistant  None\n",
      "isChisq         False\n",
      "iter            34\n",
      "keep            None\n",
      "landscape       <BayesicFitting.source.MaxLikelihoodFitter._LogL object at 0x108155d68>\n",
      "logLikelihood   -355.2765724158158\n",
      "maxIter         2000\n",
      "model           Exp\n",
      "ndim            1\n",
      "npfit           2\n",
      "ntrans          69\n",
      "nxdata          201\n",
      "plotfreq        0\n",
      "plotter         <BayesicFitting.source.IterationPlotter.IterationPlotter object at 0x108155c18>\n",
      "power           2.0\n",
      "simplex         [[17.06265909 -0.19693392]  [17.04929597 -0.19691779]  [17.06593881 -0.19708062]  ]\n",
      "sumwgt          201\n",
      "tolerance       0.0001\n",
      "tooLarge        100\n",
      "values          [355.2765724158158  355.2766069615389  355.2766450761071  ]\n",
      "verbose         1\n",
      "xdata           [0.0  0.1  0.2  0.30000000000000004  0.4  0.5  0.6000000000000001  0.7000000000000001  ... ]\n"
     ]
    }
   ],
   "source": [
    "fitter = AmoebaFitter( x, mdl, errdis=\"poisson\" )\n",
    " \n",
    "# find the parameters\n",
    "param = fitter.fit( y )\n",
    "\n",
    "# show all attributes of the fitter class \n",
    "printclass( fitter )"
   ]
  },
  {
   "cell_type": "code",
   "execution_count": 6,
   "metadata": {
    "scrolled": true
   },
   "outputs": [
    {
     "name": "stdout",
     "output_type": "stream",
     "text": [
      "Parameters : [   17.063   -0.197]\n",
      "StDevs     : [    0.571    0.009]\n",
      "Chisq      :   760.534\n",
      "Scale      :     2.066\n",
      "Evidence   :  -161.143\n"
     ]
    }
   ],
   "source": [
    "print( \"Parameters :\", fmt( param ) )\n",
    "print( \"StDevs     :\", fmt( fitter.stdevs ) )\n",
    "print( \"Chisq      :\", fmt( fitter.chisq ) )\n",
    "print( \"Scale      :\", fmt( fitter.scale ) )\n",
    "print( \"Evidence   :\", fmt( fitter.getEvidence( limits=[-100,100] ) ) )"
   ]
  },
  {
   "cell_type": "code",
   "execution_count": 7,
   "metadata": {},
   "outputs": [
    {
     "data": {
      "image/png": "[encoded data removed]",
      "text/plain": [
       "<matplotlib.figure.Figure at 0x10816e9e8>"
      ]
     },
     "metadata": {},
     "output_type": "display_data"
    }
   ],
   "source": [
    "plotFit( x, data=y, model=mdl, fitter=fitter )"
   ]
  },
  {
   "cell_type": "code",
   "execution_count": 8,
   "metadata": {},
   "outputs": [
    {
     "name": "stdout",
     "output_type": "stream",
     "text": [
      "[   16.957   -0.195]   760.248        24\n"
     ]
    }
   ],
   "source": [
    "fitter = AmoebaFitter( x, mdl )\n",
    "param = fitter.fit( y )\n",
    "print( fmt( param), fmt( fitter.chisq ), fmt( fitter.iter ) )"
   ]
  },
  {
   "cell_type": "code",
   "execution_count": 9,
   "metadata": {},
   "outputs": [
    {
     "name": "stdout",
     "output_type": "stream",
     "text": [
      "[   16.957   -0.195]   760.248        25\n"
     ]
    }
   ],
   "source": [
    "fitter = AmoebaFitter( x, mdl, errdis=\"gauss\" )\n",
    "param = fitter.fit( y )\n",
    "print( fmt( param), fmt( fitter.chisq ), fmt( fitter.iter ) )"
   ]
  },
  {
   "cell_type": "code",
   "execution_count": 10,
   "metadata": {},
   "outputs": [
    {
     "name": "stdout",
     "output_type": "stream",
     "text": [
      "[   17.723   -0.208]   770.223        36\n"
     ]
    }
   ],
   "source": [
    "fitter = AmoebaFitter( x, mdl, errdis=\"laplace\" )\n",
    "param = fitter.fit( y )\n",
    "print( fmt( param), fmt( fitter.chisq ), fmt( fitter.iter ) )"
   ]
  },
  {
   "cell_type": "code",
   "execution_count": 11,
   "metadata": {},
   "outputs": [
    {
     "name": "stdout",
     "output_type": "stream",
     "text": [
      "[   17.667   -0.209]   770.873        23\n"
     ]
    }
   ],
   "source": [
    "fitter = AmoebaFitter( x, mdl, errdis=\"cauchy\" )\n",
    "param = fitter.fit( y )\n",
    "print( fmt( param), fmt( fitter.chisq ), fmt( fitter.iter ) )"
   ]
  },
  {
   "cell_type": "code",
   "execution_count": 12,
   "metadata": {},
   "outputs": [
    {
     "name": "stdout",
     "output_type": "stream",
     "text": [
      "[   17.065   -0.197]   760.548        25\n"
     ]
    }
   ],
   "source": [
    "fitter = AmoebaFitter( x, mdl, errdis=\"poisson\" )\n",
    "param = fitter.fit( y )\n",
    "print( fmt( param), fmt( fitter.chisq ), fmt( fitter.iter ))"
   ]
  },
  {
   "cell_type": "code",
   "execution_count": null,
   "metadata": {},
   "outputs": [],
   "source": []
  }
 ],
 "metadata": {
  "anaconda-cloud": {},
  "kernelspec": {
   "display_name": "Python 3",
   "language": "python",
   "name": "python3"
  },
  "language_info": {
   "codemirror_mode": {
    "name": "ipython",
    "version": 3
   },
   "file_extension": ".py",
   "mimetype": "text/x-python",
   "name": "python",
   "nbconvert_exporter": "python",
   "pygments_lexer": "ipython3",
   "version": "3.5.4"
  }
 },
 "nbformat": 4,
 "nbformat_minor": 1
}
