{
 "cells": [
  {
   "cell_type": "code",
   "execution_count": 26,
   "metadata": {},
   "outputs": [],
   "source": [
    "import numpy\n",
    "import matplotlib.pyplot as plt\n",
    "from BayesicFitting import SplinesModel\n",
    "from BayesicFitting import Fitter\n",
    "from BayesicFitting import formatter as fmt"
   ]
  },
  {
   "cell_type": "code",
   "execution_count": 42,
   "metadata": {},
   "outputs": [
    {
     "data": {
      "image/png": "[encoded data removed]",
      "text/plain": [
       "<matplotlib.figure.Figure at 0x10ff4fbe0>"
      ]
     },
     "metadata": {},
     "output_type": "display_data"
    }
   ],
   "source": [
    "x = numpy.arange( 1001, dtype=float ) / 100\n",
    "y = numpy.random.randn( 1001 ) + 1\n",
    "knots = numpy.arange( 11, dtype=float )\n",
    "par = numpy.zeros( sm.npchain, dtype=float )\n",
    "\n",
    "sm = SplinesModel( knots=knots )\n",
    "\n",
    "ftr = Fitter( x, sm )\n",
    "par = ftr.fit( y )\n",
    "\n",
    "plt.plot( x, y, 'k,' )\n",
    "plt.plot( x, sm( x ), 'r-' )\n",
    "n = 50\n",
    "tophat = numpy.ones( 2 * n + 1, dtype=float ) / ( 2*n)\n",
    "smfl = numpy.convolve( y, tophat, \"full\" )[n:-n]\n",
    "smfl = numpy.convolve( smfl, tophat, \"full\" )[n:-n]\n",
    "smfl = numpy.convolve( smfl, tophat, \"full\" )[n:-n]\n",
    "plt.plot( x, smfl, 'g-' )\n",
    "plt.show()\n",
    "\n",
    "#print( fmt( sm.partial( knots, par ), max=None ) )"
   ]
  },
  {
   "cell_type": "code",
   "execution_count": 19,
   "metadata": {},
   "outputs": [
    {
     "name": "stdout",
     "output_type": "stream",
     "text": [
      "[[    1.000   10.000   19.000   17.000   15.000   13.000   11.000    9.000\n",
      "      7.000    5.000    3.000    1.000]]\n"
     ]
    }
   ],
   "source": [
    "dsdx = SplinesModel( knots=knots, order=2 )\n",
    "print( fmt( dsdx.partial( 10.0, par[1:] ), max=None ) )"
   ]
  },
  {
   "cell_type": "code",
   "execution_count": 13,
   "metadata": {},
   "outputs": [
    {
     "data": {
      "image/png": "[encoded data removed]",
      "text/plain": [
       "<matplotlib.figure.Figure at 0x10fe3a588>"
      ]
     },
     "metadata": {},
     "output_type": "display_data"
    }
   ],
   "source": [
    "\n",
    "par[0] = 1\n",
    "par[2] = 0.000\n",
    "par[3] = -0.000\n",
    "par[4] = 0.001\n",
    "par[5] = -0.001\n",
    "par[6] = 0.001\n",
    "par[7] = -0.001\n",
    "par[8] = 0.001\n",
    "par[9] = -0.001\n",
    "par[10] = 0.001\n",
    "par[11] = -0.001\n",
    "par[12] = 0.001\n",
    "\n",
    "\n",
    "\n",
    "\n",
    "\n",
    "plt.plot( xpix, sm.result( xpix, par ), 'k-')\n",
    "plt.show()"
   ]
  },
  {
   "cell_type": "code",
   "execution_count": 25,
   "metadata": {},
   "outputs": [
    {
     "name": "stdout",
     "output_type": "stream",
     "text": [
      "(array([8, 9]),)\n",
      "[array([0, 1]), array([2, 3]), array([4, 5]), array([6, 7]), array([8, 9])]\n",
      "[[1 0 0 0 0 0]\n",
      " [1 0 0 0 0 0]\n",
      " [0 1 0 0 0 0]\n",
      " [0 1 0 0 0 0]\n",
      " [0 0 1 0 0 0]\n",
      " [0 0 1 0 0 0]\n",
      " [0 0 0 1 0 0]\n",
      " [0 0 0 1 0 0]\n",
      " [0 0 0 0 1 0]\n",
      " [0 0 0 0 1 0]\n",
      " [0 0 0 0 0 0]]\n"
     ]
    },
    {
     "ename": "ValueError",
     "evalue": "operands could not be broadcast together with shapes (11,) (5,) ",
     "output_type": "error",
     "traceback": [
      "\u001b[0;31m---------------------------------------------------------------------------\u001b[0m",
      "\u001b[0;31mValueError\u001b[0m                                Traceback (most recent call last)",
      "\u001b[0;32m<ipython-input-25-108f6872f42d>\u001b[0m in \u001b[0;36m<module>\u001b[0;34m()\u001b[0m\n\u001b[1;32m     13\u001b[0m \u001b[0mprint\u001b[0m\u001b[0;34m(\u001b[0m \u001b[0mqq\u001b[0m \u001b[0;34m)\u001b[0m\u001b[0;34m\u001b[0m\u001b[0m\n\u001b[1;32m     14\u001b[0m \u001b[0mprint\u001b[0m\u001b[0;34m(\u001b[0m \u001b[0mpart\u001b[0m \u001b[0;34m)\u001b[0m\u001b[0;34m\u001b[0m\u001b[0m\n\u001b[0;32m---> 15\u001b[0;31m \u001b[0mprint\u001b[0m\u001b[0;34m(\u001b[0m \u001b[0mx\u001b[0m \u001b[0;34m<\u001b[0m \u001b[0mknots\u001b[0m\u001b[0;34m[\u001b[0m\u001b[0;36m1\u001b[0m\u001b[0;34m:\u001b[0m\u001b[0;34m]\u001b[0m \u001b[0;34m)\u001b[0m\u001b[0;34m\u001b[0m\u001b[0m\n\u001b[0m",
      "\u001b[0;31mValueError\u001b[0m: operands could not be broadcast together with shapes (11,) (5,) "
     ]
    }
   ],
   "source": [
    "x = numpy.arange( 11, dtype=float )\n",
    "knots = numpy.arange( 6, dtype=float ) * 2\n",
    "\n",
    "part = numpy.zeros( (11,6), dtype=int )\n",
    "ks = knots[0]\n",
    "qq = []  \n",
    "for k,ke in enumerate( knots[1:] ) :\n",
    "    q = numpy.where( numpy.logical_and( ks <= x, x < ke ) )\n",
    "    qq  += [q[0]]\n",
    "    part[q,k] = 1\n",
    "    ks = ke\n",
    "print( q )\n",
    "print( qq )\n",
    "print( part )\n",
    "print( x < knots[1:] )\n"
   ]
  },
  {
   "cell_type": "code",
   "execution_count": null,
   "metadata": {},
   "outputs": [],
   "source": []
  }
 ],
 "metadata": {
  "kernelspec": {
   "display_name": "Python 3",
   "language": "python",
   "name": "python3"
  },
  "language_info": {
   "codemirror_mode": {
    "name": "ipython",
    "version": 3
   },
   "file_extension": ".py",
   "mimetype": "text/x-python",
   "name": "python",
   "nbconvert_exporter": "python",
   "pygments_lexer": "ipython3",
   "version": "3.5.4"
  }
 },
 "nbformat": 4,
 "nbformat_minor": 2
}
