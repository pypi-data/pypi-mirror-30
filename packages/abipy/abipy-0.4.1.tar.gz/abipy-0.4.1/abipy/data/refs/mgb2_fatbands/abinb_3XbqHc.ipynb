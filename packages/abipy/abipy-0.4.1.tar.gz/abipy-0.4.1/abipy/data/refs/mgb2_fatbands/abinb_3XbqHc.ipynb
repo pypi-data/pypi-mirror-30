{
 "cells": [
  {
   "cell_type": "code",
   "execution_count": null,
   "metadata": {},
   "outputs": [],
   "source": [
    "from __future__ import print_function, division, unicode_literals, absolute_import\n",
    "\n",
    "import sys, os\n",
    "import numpy as np\n",
    "\n",
    "%matplotlib notebook\n",
    "from IPython.display import display\n",
    "\n",
    "# Uncomment this line to activate seaborn settings.\n",
    "#import seaborn as sns\n",
    "\n",
    "# This to render pandas DataFrames with https://github.com/quantopian/qgrid\n",
    "#import qgrid\n",
    "#qgrid.nbinstall(overwrite=True)  # copies javascript dependencies to your /nbextensions folder\n",
    "\n",
    "# This to view Mayavi visualizations. See http://docs.enthought.com/mayavi/mayavi/tips.html\n",
    "#from mayavi import mlab; mlab.init_notebook(backend='x3d', width=None, height=None, local=True)\n",
    "\n",
    "from abipy import abilab"
   ]
  },
  {
   "cell_type": "code",
   "execution_count": null,
   "metadata": {},
   "outputs": [],
   "source": [
    "wfk = abilab.abiopen('/Users/gmatteo/git_repos/abipy/abipy/data/refs/si_ebands/si_nscf_WFK.nc')"
   ]
  },
  {
   "cell_type": "code",
   "execution_count": null,
   "metadata": {},
   "outputs": [],
   "source": [
    "print(wfk)"
   ]
  },
  {
   "cell_type": "code",
   "execution_count": null,
   "metadata": {},
   "outputs": [],
   "source": [
    "fig = wfk.ebands.plot()"
   ]
  },
  {
   "cell_type": "code",
   "execution_count": null,
   "metadata": {},
   "outputs": [],
   "source": [
    "fig = wfk.ebands.kpoints.plot()"
   ]
  },
  {
   "cell_type": "code",
   "execution_count": null,
   "metadata": {},
   "outputs": [],
   "source": [
    "fig = wfk.ebands.plot()"
   ]
  },
  {
   "cell_type": "code",
   "execution_count": null,
   "metadata": {},
   "outputs": [],
   "source": [
    "if wfk.ebands.kpoints.is_ibz:\n",
    "    fig = wfk.ebands.get_edos().plot()"
   ]
  },
  {
   "cell_type": "code",
   "execution_count": null,
   "metadata": {},
   "outputs": [],
   "source": [
    "wfk.ipw_visualize()"
   ]
  }
 ],
 "metadata": {},
 "nbformat": 4,
 "nbformat_minor": 2
}
