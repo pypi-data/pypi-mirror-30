{
  "cells": [
    {
      "cell_type": "code",
      "execution_count": null,
      "metadata": {
        "collapsed": false
      },
      "outputs": [],
      "source": [
        "%matplotlib inline"
      ]
    },
    {
      "cell_type": "markdown",
      "metadata": {},
      "source": [
        "\n==================\nDOM hits.\n==================\n\nEstimate track/DOM distances using the number of hits per DOM.\n\n"
      ]
    },
    {
      "cell_type": "code",
      "execution_count": null,
      "metadata": {
        "collapsed": false
      },
      "outputs": [],
      "source": [
        "# Author: Tamas Gal <tgal@km3net.de>\n# License: BSD-3\n\nfrom collections import defaultdict, Counter\n\nimport km3pipe as kp\nimport pandas as pd\n\nimport matplotlib.pyplot as plt\nfrom matplotlib.colors import LogNorm\n\nfrom km3modules.common import StatusBar\nfrom km3pipe.math import pld3\nimport km3pipe.style\nkm3pipe.style.use(\"km3pipe\")\n\n\nfilename = \"data/km3net_jul13_90m_muatm50T655.km3_v5r1.JTE_r2356.root.0-499.h5\"\ncal = kp.Calibration(filename=\"data/km3net_jul13_90m_r1494_corrected.detx\")\n\n\ndef filter_muons(blob):\n    \"\"\"Write all muons from McTracks to Muons.\"\"\"\n    tracks = blob['McTracks']\n    muons = [t for t in tracks if t.type == 5]\n    blob[\"Muons\"] = kp.dataclasses.McTrackSeries(muons, tracks.event_id)\n    return blob\n\n\nclass DOMHits(kp.Module):\n    \"\"\"Create histogram with n_hits and distance of hit to track.\"\"\"\n\n    def configure(self):\n        self.hit_statistics = defaultdict(list)\n\n    def process(self, blob):\n        hits = blob['Hits']\n        muons = blob['Muons']\n\n        highest_energetic_muon = max(muons, key=lambda x: x.energy)\n        muon = highest_energetic_muon\n\n        triggered_hits = hits.triggered_hits\n        dom_hits = Counter(triggered_hits.dom_id)\n        for dom_id, n_hits in dom_hits.items():\n            distance = pld3(cal.detector.dom_positions[dom_id],\n                            muon.pos,\n                            muon.dir)\n            self.hit_statistics['n_hits'].append(n_hits)\n            self.hit_statistics['distance'].append(distance)\n        return blob\n\n    def finish(self):\n        df = pd.DataFrame(self.hit_statistics)\n        sdf = df[(df['distance'] < 200) & (df['n_hits'] < 50)]\n        plt.hist2d(sdf['distance'], sdf['n_hits'], cmap='plasma',\n                   bins=(max(sdf['distance']) - 1, max(sdf['n_hits']) - 1),\n                   norm=LogNorm())\n        plt.xlabel('Distance between hit and muon track [m]')\n        plt.ylabel('Number of hits on DOM')\n        plt.show()\n\n\npipe = kp.Pipeline()\npipe.attach(kp.io.HDF5Pump, filename=filename)\npipe.attach(StatusBar, every=100)\npipe.attach(filter_muons)\npipe.attach(DOMHits)\npipe.drain()"
      ]
    }
  ],
  "metadata": {
    "kernelspec": {
      "display_name": "Python 3",
      "language": "python",
      "name": "python3"
    },
    "language_info": {
      "codemirror_mode": {
        "name": "ipython",
        "version": 3
      },
      "file_extension": ".py",
      "mimetype": "text/x-python",
      "name": "python",
      "nbconvert_exporter": "python",
      "pygments_lexer": "ipython3",
      "version": "3.6.3"
    }
  },
  "nbformat": 4,
  "nbformat_minor": 0
}