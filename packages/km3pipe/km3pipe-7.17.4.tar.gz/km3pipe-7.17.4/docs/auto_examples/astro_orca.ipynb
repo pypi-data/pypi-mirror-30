{
  "cells": [
    {
      "cell_type": "code",
      "execution_count": null,
      "metadata": {
        "collapsed": false
      },
      "outputs": [],
      "source": [
        "%matplotlib inline"
      ]
    },
    {
      "cell_type": "markdown",
      "metadata": {},
      "source": [
        "\n================\nOrca Astro Test.\n================\n\nThis example needs Astropy: ``pip install astropy``.\n\nYou'll also want to check out the ``km3astro`` project, which wraps a nicer\nAPI around this: git.km3net.de/moritz/km3astro\n\nTake some events in the detector and transform them\nto galactic coordinates.\n\n"
      ]
    },
    {
      "cell_type": "code",
      "execution_count": null,
      "metadata": {
        "collapsed": false
      },
      "outputs": [],
      "source": [
        "from astropy.coordinates import (Angle, Latitude, Longitude, Galactic,  # noqa\n                                 EarthLocation, AltAz, SkyCoord)  # noqa\nfrom astropy.units import degree, minute, meter     # noqa\nfrom astropy.time import Time\nimport matplotlib.pyplot as plt\nimport numpy as np\n\nfrom km3pipe.constants import orca_longitude, orca_latitude, orca_height\nimport km3pipe.style\nkm3pipe.style.use(\"km3pipe\")\n\n\n# load orca coordinates\norca_loc = EarthLocation.from_geodetic(\n    Longitude(orca_longitude * degree),\n    Latitude(orca_latitude * degree),\n    height=orca_height\n)\norca_frame = AltAz(obstime=Time.now(), location=orca_loc)\n\n# prepare canvases\nfig = plt.figure(figsize=(10, 4))\nax = fig.add_subplot(111, projection='aitoff')\n\n# generate some zenith + azimuth pairs\naz = np.random.rand(100) * 360.0 * degree\nalt = (np.random.rand(100) * 180.0 - 90.0) * degree\n\norca_event = SkyCoord(alt=alt, az=az, frame=orca_frame)\norca_event_origin = orca_event.galactic\nax.plot(orca_event_origin.l, orca_event_origin.b, 'o',\n        markersize=10, alpha=0.3, color='k')\nplt.show()"
      ]
    }
  ],
  "metadata": {
    "kernelspec": {
      "display_name": "Python 3",
      "language": "python",
      "name": "python3"
    },
    "language_info": {
      "codemirror_mode": {
        "name": "ipython",
        "version": 3
      },
      "file_extension": ".py",
      "mimetype": "text/x-python",
      "name": "python",
      "nbconvert_exporter": "python",
      "pygments_lexer": "ipython3",
      "version": "3.6.3"
    }
  },
  "nbformat": 4,
  "nbformat_minor": 0
}