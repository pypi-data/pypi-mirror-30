{
 "cells": [
  {
   "cell_type": "code",
   "execution_count": null,
   "metadata": {},
   "outputs": [],
   "source": [
    "import threevis\n",
    "import openmesh as om\n",
    "import numpy as np\n",
    "\n",
    "m = om.read_polymesh('models/model_mixed_valence.obj')\n",
    "\n",
    "vertices = m.points()\n",
    "faces = m.face_vertex_indices()\n",
    "edges = m.ev_indices()\n",
    "\n",
    "mesh = threevis.Mesh(vertices, faces)\n",
    "mesh.colors = threevis.FaceAttribute(np.random.rand(len(faces), 3))\n",
    "mesh.normals = threevis.calculate_point_normals(vertices, faces)\n",
    "\n",
    "\n",
    "normal_vis_verts, normal_vis_edges = threevis.calculate_normal_edges(vertices, faces, mesh.normals, 0.5)\n",
    "\n",
    "ctx = threevis.Context()\n",
    "\n",
    "ctx.draw(mesh).draw(threevis.EdgeList(vertices, edges)).draw(threevis.PointList(vertices, colors='#aaaaaa'), point_size=3)\n",
    "\n",
    "ctx.draw_edges(normal_vis_verts, normal_vis_edges)\n",
    "\n",
    "ctx.display()\n",
    "\n"
   ]
  }
 ],
 "metadata": {
  "kernelspec": {
   "display_name": "Python 2",
   "language": "python",
   "name": "python2"
  },
  "language_info": {
   "codemirror_mode": {
    "name": "ipython",
    "version": 2
   },
   "file_extension": ".py",
   "mimetype": "text/x-python",
   "name": "python",
   "nbconvert_exporter": "python",
   "pygments_lexer": "ipython2"
  }
 },
 "nbformat": 4,
 "nbformat_minor": 2
}
