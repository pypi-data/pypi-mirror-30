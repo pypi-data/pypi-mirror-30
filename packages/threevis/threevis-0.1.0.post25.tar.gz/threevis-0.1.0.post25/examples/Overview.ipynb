{
 "cells": [
  {
   "cell_type": "code",
   "execution_count": null,
   "metadata": {},
   "outputs": [],
   "source": [
    "import threevis\n",
    "import openmesh as om\n",
    "import numpy as np\n",
    "m = om.read_trimesh(\"models/bunny.obj\")\n",
    "\n",
    "ctx = threevis.Context(width=640, height=480)\n",
    "\n",
    "texture = threevis.ImageTexture(imageUri='textures/checkerboard.png')\n",
    "\n",
    "vertices = m.points()\n",
    "faces = m.face_vertex_indices()\n",
    "\n",
    "normals = threevis.calculate_point_normals(vertices, faces)\n",
    "colors = threevis.FaceAttribute(np.random.rand(len(faces), 3))\n",
    "uvs = threevis.PointAttribute(m.vertex_texcoords2D())\n",
    "\n",
    "ctx.draw_faces(vertices, faces, \n",
    "               normals = normals,\n",
    "               colors = colors,\n",
    "               uvs = uvs,\n",
    "               shading = 'flat')\n",
    "\n",
    "ctx.draw_edges(vertices, m.ev_indices(), \n",
    "               colors = threevis.FaceAttribute(np.random.rand(len(m.ev_indices()), 3)),\n",
    "               line_width=3)\n",
    "\n",
    "normal_vis_verts, normal_vis_edges = threevis.calculate_normal_edges(vertices, faces, normals, 0.005)\n",
    "\n",
    "ctx.draw_edges(normal_vis_verts, normal_vis_edges)\n",
    "\n",
    "ctx.draw_vertices(vertices, point_size=4, colors='red')\n",
    "\n",
    "ctx.display()"
   ]
  },
  {
   "cell_type": "code",
   "execution_count": null,
   "metadata": {},
   "outputs": [],
   "source": [
    "threevis.display_vertices([[0,0,0],[1,0, 0]], colors='blue', point_size=10)"
   ]
  },
  {
   "cell_type": "code",
   "execution_count": null,
   "metadata": {},
   "outputs": [],
   "source": [
    "verts = [\n",
    "  # Front face\n",
    "  [-1.0, -1.0,  1.0],\n",
    "  [ 1.0, -1.0,  1.0],\n",
    "  [ 1.0,  1.0,  1.0],\n",
    "  [-1.0,  1.0,  1.0],\n",
    "]\n",
    "\n",
    "indices = [\n",
    "    [0,  1,  2],    [0,  2,  3],    # front\n",
    "]\n",
    "\n",
    "vcolors = [\n",
    "    [1, 0, 0],\n",
    "    [0, 1, 0],\n",
    "    [0, 0, 1],\n",
    "    [1, 0, 1]\n",
    "]\n",
    "\n",
    "fcolors = [\n",
    "    [1, 0, 0],\n",
    "    [0, 0, 1]\n",
    "]\n",
    "\n",
    "uvs = [\n",
    "    [0, 0],\n",
    "    [1, 0],\n",
    "    [1, 1],\n",
    "    [0, 1]\n",
    "]\n",
    "\n",
    "ctx = threevis.Context(width=300, height=300)\n",
    "\n",
    "ctx.draw_faces(verts, indices, \n",
    "               colors = threevis.PointAttribute(vcolors),\n",
    "               uvs = threevis.PointAttribute(uvs),\n",
    "               texture = threevis.ImageTexture(imageUri='textures/checkerboard.png'))\n",
    "\n",
    "ctx.draw_vertices(verts, point_size=5, colors=vcolors)\n",
    "\n",
    "ctx.display()"
   ]
  },
  {
   "cell_type": "code",
   "execution_count": null,
   "metadata": {},
   "outputs": [],
   "source": [
    "import threevis\n",
    "vcolors = [\n",
    "    [1, 0, 0],\n",
    "    [0, 1, 0],\n",
    "    [0, 0, 1],\n",
    "    [1, 0, 1]\n",
    "]\n",
    "\n",
    "fcolors = [\n",
    "    [1, 0, 0],\n",
    "    [0, 0, 1]\n",
    "]\n",
    "\n",
    "threevis.display_edges([[0, 0, 0], [1, 0, 0], [1, 1, 0], [0, 1, 0]], \n",
    "                      [[0, 1], [2,3]], \n",
    "                      colors = threevis.PointAttribute(vcolors))"
   ]
  }
 ],
 "metadata": {
  "kernelspec": {
   "display_name": "Python 2",
   "language": "python",
   "name": "python2"
  },
  "language_info": {
   "codemirror_mode": {
    "name": "ipython",
    "version": 2
   },
   "file_extension": ".py",
   "mimetype": "text/x-python",
   "name": "python",
   "nbconvert_exporter": "python",
   "pygments_lexer": "ipython2"
  }
 },
 "nbformat": 4,
 "nbformat_minor": 2
}
