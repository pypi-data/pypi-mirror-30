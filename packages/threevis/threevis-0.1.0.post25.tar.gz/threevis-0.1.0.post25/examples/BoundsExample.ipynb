{
 "cells": [
  {
   "cell_type": "code",
   "execution_count": null,
   "metadata": {},
   "outputs": [],
   "source": [
    "import threevis\n",
    "import openmesh as om\n",
    "import numpy as np\n",
    "\n",
    "m = om.read_polymesh('models/bunny.obj')\n",
    "\n",
    "vertices = m.points()\n",
    "faces = m.face_vertex_indices()\n",
    "\n",
    "\n",
    "mesh = threevis.Mesh(vertices, faces, \n",
    "                     normals = threevis.calculate_face_normals(vertices, faces))\n",
    "\n",
    "threevis.display(mesh, show_bounds=True)\n"
   ]
  }
 ],
 "metadata": {
  "kernelspec": {
   "display_name": "Python 2",
   "language": "python",
   "name": "python2"
  },
  "language_info": {
   "codemirror_mode": {
    "name": "ipython",
    "version": 2
   },
   "file_extension": ".py",
   "mimetype": "text/x-python",
   "name": "python",
   "nbconvert_exporter": "python",
   "pygments_lexer": "ipython2"
  }
 },
 "nbformat": 4,
 "nbformat_minor": 2
}
