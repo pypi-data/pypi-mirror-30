{
 "cells": [
  {
   "cell_type": "code",
   "execution_count": null,
   "metadata": {},
   "outputs": [],
   "source": [
    "import threevis\n",
    "import openmesh as om\n",
    "import numpy as np\n",
    "\n",
    "from ipywidgets import interact\n",
    "\n",
    "m = om.read_polymesh('models/bunny.obj')\n",
    "\n",
    "vertices = m.points()\n",
    "faces = m.face_vertex_indices()\n",
    "\n",
    "mesh = threevis.Mesh(vertices, faces, \n",
    "                     normals = threevis.calculate_face_normals(vertices, faces))\n",
    "\n",
    "\n",
    "\n",
    "ctx = threevis.Context()\n",
    "\n",
    "@interact(y_rot=(0,360,1), z_pos=(0.1, 10, 0.01))\n",
    "def g(y_rot, z_pos):\n",
    "    ctx.set_camera(((0, 0.1, z_pos), (0, y_rot, 0)))\n",
    "\n",
    "ctx.draw(mesh)\n",
    "ctx.display()\n"
   ]
  }
 ],
 "metadata": {
  "kernelspec": {
   "display_name": "Python 2",
   "language": "python",
   "name": "python2"
  },
  "language_info": {
   "codemirror_mode": {
    "name": "ipython",
    "version": 2
   },
   "file_extension": ".py",
   "mimetype": "text/x-python",
   "name": "python",
   "nbconvert_exporter": "python",
   "pygments_lexer": "ipython2"
  }
 },
 "nbformat": 4,
 "nbformat_minor": 2
}
