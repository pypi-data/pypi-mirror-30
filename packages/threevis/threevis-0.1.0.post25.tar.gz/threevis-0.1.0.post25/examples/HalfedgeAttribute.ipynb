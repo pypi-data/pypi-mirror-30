{
 "cells": [
  {
   "cell_type": "code",
   "execution_count": null,
   "metadata": {},
   "outputs": [],
   "source": [
    "import threevis\n",
    "import openmesh as om\n",
    "import numpy as np\n",
    "\n",
    "m = om.read_polymesh('models/bunny.obj')\n",
    "\n",
    "mesh = threevis.Mesh(m.points(), m.face_vertex_indices())\n",
    "\n",
    "mesh.colors = threevis.HalfEdgeAttribute(np.random.rand(m.n_halfedges(), 3), m.halfedge_vertex_indices(), m.halfedge_face_indices())\n",
    "\n",
    "ctx = threevis.Context()\n",
    "ctx.draw(mesh)\n",
    "ctx.display()\n"
   ]
  }
 ],
 "metadata": {
  "kernelspec": {
   "display_name": "Python 2",
   "language": "python",
   "name": "python2"
  },
  "language_info": {
   "codemirror_mode": {
    "name": "ipython",
    "version": 2
   },
   "file_extension": ".py",
   "mimetype": "text/x-python",
   "name": "python",
   "nbconvert_exporter": "python",
   "pygments_lexer": "ipython2"
  }
 },
 "nbformat": 4,
 "nbformat_minor": 2
}
