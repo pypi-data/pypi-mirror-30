{
 "cells": [
  {
   "cell_type": "code",
   "execution_count": 1,
   "metadata": {},
   "outputs": [
    {
     "data": {
      "application/vnd.jupyter.widget-view+json": {
       "model_id": "b067fdbee6c140528b8413cf73022721",
       "version_major": 2,
       "version_minor": 0
      },
      "text/html": [
       "<p>Failed to display Jupyter Widget of type <code>Renderer</code>.</p>\n",
       "<p>\n",
       "  If you're reading this message in the Jupyter Notebook or JupyterLab Notebook, it may mean\n",
       "  that the widgets JavaScript is still loading. If this message persists, it\n",
       "  likely means that the widgets JavaScript library is either not installed or\n",
       "  not enabled. See the <a href=\"https://ipywidgets.readthedocs.io/en/stable/user_install.html\">Jupyter\n",
       "  Widgets Documentation</a> for setup instructions.\n",
       "</p>\n",
       "<p>\n",
       "  If you're reading this message in another frontend (for example, a static\n",
       "  rendering on GitHub or <a href=\"https://nbviewer.jupyter.org/\">NBViewer</a>),\n",
       "  it may mean that your frontend doesn't currently support widgets.\n",
       "</p>\n"
      ],
      "text/plain": [
       "Renderer(background='#dddddd', camera=PerspectiveCamera(aspect=1.5, children=(DirectionalLight(position=(-30.0, 50.0, 10.0), quaternion=(0.0, 0.0, 0.0, 1.0), scale=(1.0, 1.0, 1.0), up=(0.0, 1.0, 0.0)),), fov=20.0, position=(15.0070282848566, 15.0070282848566, 15.0070282848566), quaternion=(0.0, 0.0, 0.0, 1.0), scale=(1.0, 1.0, 1.0), up=(0.0, 1.0, 0.0)), controls=[OrbitControls(controlling=PerspectiveCamera(aspect=1.5, children=(DirectionalLight(position=(-30.0, 50.0, 10.0), quaternion=(0.0, 0.0, 0.0, 1.0), scale=(1.0, 1.0, 1.0), up=(0.0, 1.0, 0.0)),), fov=20.0, position=(15.0070282848566, 15.0070282848566, 15.0070282848566), quaternion=(0.0, 0.0, 0.0, 1.0), scale=(1.0, 1.0, 1.0), up=(0.0, 1.0, 0.0)), target=(0.7533562409600962, 0.010526408874791504, 0.5149774284808086)), Picker(controlling=Scene(background=u'#dddddd', children=(AmbientLight(color=u'#aaaaaa', quaternion=(0.0, 0.0, 0.0, 1.0), scale=(1.0, 1.0, 1.0), up=(0.0, 1.0, 0.0)), PerspectiveCamera(aspect=1.5, children=(DirectionalLight(position=(-30.0, 50.0, 10.0), quaternion=(0.0, 0.0, 0.0, 1.0), scale=(1.0, 1.0, 1.0), up=(0.0, 1.0, 0.0)),), fov=20.0, position=(15.0070282848566, 15.0070282848566, 15.0070282848566), quaternion=(0.0, 0.0, 0.0, 1.0), scale=(1.0, 1.0, 1.0), up=(0.0, 1.0, 0.0)), Mesh(geometry=BufferGeometry(attributes={'color': <BufferAttribute shape=(66L, 3L), dtype=float32>, 'index': <BufferAttribute shape=(66L,), dtype=uint32>, 'normal': <BufferAttribute shape=(66L, 3L), dtype=float32>, 'position': <BufferAttribute shape=(66L, 3L), dtype=float32>}), material=MeshLambertMaterial(alphaMap=None, aoMap=None, color=u'white', emissiveMap=None, envMap=None, lightMap=None, map=None, polygonOffset=True, polygonOffsetFactor=0.5, polygonOffsetUnits=0.1, specularMap=None, vertexColors='VertexColors'), quaternion=(0.0, 0.0, 0.0, 1.0), scale=(1.0, 1.0, 1.0), up=(0.0, 1.0, 0.0)), LineSegments(geometry=BufferGeometry(attributes={'index': BufferAttribute(array=array([ 0,  1,  2,  3,  4,  5,  6,  7,  8,  9, 10, 11, 12, 13, 14, 15, 16,\n",
       "       17, 18, 19, 20, 21, 22, 23, 24, 25, 26, 27, 28, 29, 30, 31, 32, 33,\n",
       "       34, 35, 36, 37, 38, 39, 40, 41], dtype=uint32), normalized=False), 'position': <BufferAttribute shape=(42L, 3L), dtype=float32>}), material=LineBasicMaterial(color=u'#000000', polygonOffset=True, polygonOffsetFactor=0.5, polygonOffsetUnits=0.1), quaternion=(0.0, 0.0, 0.0, 1.0), scale=(1.0, 1.0, 1.0), up=(0.0, 1.0, 0.0)), Points(geometry=BufferGeometry(attributes={'position': BufferAttribute(array=array([[-1.      , -1.      ,  1.26039 ],\n",
       "       [-1.      ,  1.      ,  1.191139],\n",
       "       [-1.      , -1.      , -1.      ],\n",
       "       [-1.      ,  1.      , -1.      ],\n",
       "       [ 1.      , -1.      ,  1.      ],\n",
       "       [ 1.      ,  1.      ,  1.      ],\n",
       "       [ 1.      , -1.      , -1.      ],\n",
       "       [ 1.      ,  1.      , -1.      ],\n",
       "       [-1.      ,  0.      ,  1.887504],\n",
       "       [ 2.246086, -1.      ,  1.      ],\n",
       "       [ 2.246086,  1.      ,  1.      ],\n",
       "       [ 2.246086, -1.      , -1.      ],\n",
       "       [ 2.246086,  1.      , -1.      ]], dtype=float32), normalized=False)}), material=PointsMaterial(color=u'#aaaaaa', map=None, polygonOffset=True, polygonOffsetFactor=0.5, polygonOffsetUnits=0.1, size=3.0, sizeAttenuation=False), quaternion=(0.0, 0.0, 0.0, 1.0), scale=(1.0, 1.0, 1.0), up=(0.0, 1.0, 0.0)), LineSegments(geometry=BufferGeometry(attributes={'index': <BufferAttribute shape=(84L,), dtype=uint32>, 'position': <BufferAttribute shape=(84L, 3L), dtype=float32>}), material=LineBasicMaterial(color=u'#000000'), quaternion=(0.0, 0.0, 0.0, 1.0), scale=(1.0, 1.0, 1.0), up=(0.0, 1.0, 0.0))), fog=None, overrideMaterial=None, quaternion=(0.0, 0.0, 0.0, 1.0), scale=(1.0, 1.0, 1.0), up=(0.0, 1.0, 0.0)), event=u'dblclick', object=None)], localClippingEnabled=True, scene=Scene(background=u'#dddddd', children=(AmbientLight(color=u'#aaaaaa', quaternion=(0.0, 0.0, 0.0, 1.0), scale=(1.0, 1.0, 1.0), up=(0.0, 1.0, 0.0)), PerspectiveCamera(aspect=1.5, children=(DirectionalLight(position=(-30.0, 50.0, 10.0), quaternion=(0.0, 0.0, 0.0, 1.0), scale=(1.0, 1.0, 1.0), up=(0.0, 1.0, 0.0)),), fov=20.0, position=(15.0070282848566, 15.0070282848566, 15.0070282848566), quaternion=(0.0, 0.0, 0.0, 1.0), scale=(1.0, 1.0, 1.0), up=(0.0, 1.0, 0.0)), Mesh(geometry=BufferGeometry(attributes={'color': <BufferAttribute shape=(66L, 3L), dtype=float32>, 'index': <BufferAttribute shape=(66L,), dtype=uint32>, 'normal': <BufferAttribute shape=(66L, 3L), dtype=float32>, 'position': <BufferAttribute shape=(66L, 3L), dtype=float32>}), material=MeshLambertMaterial(alphaMap=None, aoMap=None, color=u'white', emissiveMap=None, envMap=None, lightMap=None, map=None, polygonOffset=True, polygonOffsetFactor=0.5, polygonOffsetUnits=0.1, specularMap=None, vertexColors='VertexColors'), quaternion=(0.0, 0.0, 0.0, 1.0), scale=(1.0, 1.0, 1.0), up=(0.0, 1.0, 0.0)), LineSegments(geometry=BufferGeometry(attributes={'index': BufferAttribute(array=array([ 0,  1,  2,  3,  4,  5,  6,  7,  8,  9, 10, 11, 12, 13, 14, 15, 16,\n",
       "       17, 18, 19, 20, 21, 22, 23, 24, 25, 26, 27, 28, 29, 30, 31, 32, 33,\n",
       "       34, 35, 36, 37, 38, 39, 40, 41], dtype=uint32), normalized=False), 'position': <BufferAttribute shape=(42L, 3L), dtype=float32>}), material=LineBasicMaterial(color=u'#000000', polygonOffset=True, polygonOffsetFactor=0.5, polygonOffsetUnits=0.1), quaternion=(0.0, 0.0, 0.0, 1.0), scale=(1.0, 1.0, 1.0), up=(0.0, 1.0, 0.0)), Points(geometry=BufferGeometry(attributes={'position': BufferAttribute(array=array([[-1.      , -1.      ,  1.26039 ],\n",
       "       [-1.      ,  1.      ,  1.191139],\n",
       "       [-1.      , -1.      , -1.      ],\n",
       "       [-1.      ,  1.      , -1.      ],\n",
       "       [ 1.      , -1.      ,  1.      ],\n",
       "       [ 1.      ,  1.      ,  1.      ],\n",
       "       [ 1.      , -1.      , -1.      ],\n",
       "       [ 1.      ,  1.      , -1.      ],\n",
       "       [-1.      ,  0.      ,  1.887504],\n",
       "       [ 2.246086, -1.      ,  1.      ],\n",
       "       [ 2.246086,  1.      ,  1.      ],\n",
       "       [ 2.246086, -1.      , -1.      ],\n",
       "       [ 2.246086,  1.      , -1.      ]], dtype=float32), normalized=False)}), material=PointsMaterial(color=u'#aaaaaa', map=None, polygonOffset=True, polygonOffsetFactor=0.5, polygonOffsetUnits=0.1, size=3.0, sizeAttenuation=False), quaternion=(0.0, 0.0, 0.0, 1.0), scale=(1.0, 1.0, 1.0), up=(0.0, 1.0, 0.0)), LineSegments(geometry=BufferGeometry(attributes={'index': <BufferAttribute shape=(84L,), dtype=uint32>, 'position': <BufferAttribute shape=(84L, 3L), dtype=float32>}), material=LineBasicMaterial(color=u'#000000'), quaternion=(0.0, 0.0, 0.0, 1.0), scale=(1.0, 1.0, 1.0), up=(0.0, 1.0, 0.0))), fog=None, overrideMaterial=None, quaternion=(0.0, 0.0, 0.0, 1.0), scale=(1.0, 1.0, 1.0), up=(0.0, 1.0, 0.0)), shadowMap=WebGLShadowMap())"
      ]
     },
     "metadata": {},
     "output_type": "display_data"
    }
   ],
   "source": [
    "import threevis\n",
    "import openmesh as om\n",
    "import numpy as np\n",
    "\n",
    "m = om.read_polymesh('models/model_mixed_valence.obj')\n",
    "\n",
    "vertices = m.points()\n",
    "faces = m.face_vertex_indices()\n",
    "edges = m.ev_indices()\n",
    "\n",
    "mesh = threevis.Mesh(vertices, faces)\n",
    "mesh.colors = threevis.FaceAttribute(np.random.rand(len(faces), 3))\n",
    "mesh.normals = threevis.calculatePointNormals(vertices, faces)\n",
    "\n",
    "\n",
    "normal_vis_verts, normal_vis_edges = threevis.calculateNormalEdges(vertices, faces, mesh.normals, 0.5)\n",
    "\n",
    "ctx = threevis.Context()\n",
    "\n",
    "ctx.draw(mesh).draw(threevis.EdgeList(vertices, edges)).draw(threevis.PointList(vertices, colors='#aaaaaa'), point_size=3)\n",
    "\n",
    "ctx.draw_edges(normal_vis_verts, normal_vis_edges)\n",
    "\n",
    "ctx.display()\n",
    "\n"
   ]
  }
 ],
 "metadata": {
  "kernelspec": {
   "display_name": "Python 2",
   "language": "python",
   "name": "python2"
  },
  "language_info": {
   "codemirror_mode": {
    "name": "ipython",
    "version": 2
   },
   "file_extension": ".py",
   "mimetype": "text/x-python",
   "name": "python",
   "nbconvert_exporter": "python",
   "pygments_lexer": "ipython2",
   "version": "2.7"
  }
 },
 "nbformat": 4,
 "nbformat_minor": 2
}
