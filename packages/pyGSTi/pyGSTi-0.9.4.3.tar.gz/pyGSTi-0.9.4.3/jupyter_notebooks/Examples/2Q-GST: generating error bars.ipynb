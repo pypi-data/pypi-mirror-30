{
 "cells": [
  {
   "cell_type": "markdown",
   "metadata": {
    "deletable": true,
    "editable": true
   },
   "source": [
    "# How to generate error bars for 2Q-GST\n"
   ]
  },
  {
   "cell_type": "code",
   "execution_count": 1,
   "metadata": {
    "collapsed": false,
    "deletable": true,
    "editable": true
   },
   "outputs": [
    {
     "name": "stdout",
     "output_type": "stream",
     "text": [
      "Memory limit was =  3221225472\n",
      "Memory limit is now =  2684354560.0\n"
     ]
    }
   ],
   "source": [
    "import pygsti\n",
    "import pickle\n",
    "import time\n",
    "\n",
    "#If we were using MPI\n",
    "# from mpi4py import MPI\n",
    "# comm = MPI.COMM_WORLD\n",
    "comm = None\n",
    "\n",
    "#Load the 2-qubit results (if you don't have this file, run the 2Q-GST example)\n",
    "with open(\"example_files/easy_2q_results.pkl\",\"rb\") as f:\n",
    "    results = pickle.load(f)\n",
    "\n",
    "#Set a memory limit\n",
    "print(\"Memory limit was = \", results.estimates['default'].parameters.get('memLimit',\"none given\"))\n",
    "results.estimates['default'].parameters['memLimit'] = 2.5*(1024.0)**3 # 2.5GB\n",
    "print(\"Memory limit is now = \", results.estimates['default'].parameters['memLimit'])"
   ]
  },
  {
   "cell_type": "code",
   "execution_count": 2,
   "metadata": {
    "collapsed": false,
    "deletable": true,
    "editable": true,
    "scrolled": true
   },
   "outputs": [
    {
     "name": "stdout",
     "output_type": "stream",
     "text": [
      "Evaltree generation (deriv) w/mem limit = 2.48GB\n",
      " mem(1 subtrees, 1,1 param-grps, 1 proc-grps) in 0s = 6773.17GB (6773.17GB fc)\n",
      "Created evaluation tree with 1 subtrees.  Will divide 1 procs into 1 (subtree-processing)\n",
      " groups of ~1 procs each, to distribute over (1616,1616) params (taken as 1616,4 param groups of ~1,404 params).\n",
      " Memory estimate = 2.08GB (cache=1317, wrtLen1=1, wrtLen2=404, subsPerProc=1).\n",
      "rank 0: 38.7419s: block 0/4043, sub-tree 0/1, sub-tree-len = 1317\n",
      "rank 0: 120.189s: block 1/4043, sub-tree 0/1, sub-tree-len = 1317\n",
      "rank 0: 178.593s: block 2/4043, sub-tree 0/1, sub-tree-len = 1317\n",
      "rank 0: 234.334s: block 3/4043, sub-tree 0/1, sub-tree-len = 1317\n",
      "rank 0: 290.545s: block 4/4043, sub-tree 0/1, sub-tree-len = 1317\n",
      "rank 0: 338.526s: block 5/4043, sub-tree 0/1, sub-tree-len = 1317\n",
      "rank 0: 385.31s: block 6/4043, sub-tree 0/1, sub-tree-len = 1317\n",
      "rank 0: 427.241s: block 7/4043, sub-tree 0/1, sub-tree-len = 1317\n",
      "rank 0: 463.751s: block 8/4043, sub-tree 0/1, sub-tree-len = 1317\n",
      "rank 0: 493.799s: block 9/4043, sub-tree 0/1, sub-tree-len = 1317\n",
      "rank 0: 523.684s: block 10/4043, sub-tree 0/1, sub-tree-len = 1317\n",
      "rank 0: 553.939s: block 11/4043, sub-tree 0/1, sub-tree-len = 1317\n",
      "rank 0: 584.543s: block 12/4043, sub-tree 0/1, sub-tree-len = 1317\n",
      "rank 0: 614.543s: block 13/4043, sub-tree 0/1, sub-tree-len = 1317\n",
      "rank 0: 644.817s: block 14/4043, sub-tree 0/1, sub-tree-len = 1317\n",
      "rank 0: 676.939s: block 15/4043, sub-tree 0/1, sub-tree-len = 1317\n",
      "rank 0: 710.985s: block 16/4043, sub-tree 0/1, sub-tree-len = 1317\n",
      "rank 0: 743.661s: block 17/4043, sub-tree 0/1, sub-tree-len = 1317\n",
      "rank 0: 776.32s: block 18/4043, sub-tree 0/1, sub-tree-len = 1317\n",
      "rank 0: 809.27s: block 19/4043, sub-tree 0/1, sub-tree-len = 1317\n",
      "rank 0: 843.08s: block 20/4043, sub-tree 0/1, sub-tree-len = 1317\n",
      "rank 0: 875.849s: block 21/4043, sub-tree 0/1, sub-tree-len = 1317\n",
      "rank 0: 909.451s: block 22/4043, sub-tree 0/1, sub-tree-len = 1317\n"
     ]
    },
    {
     "ename": "KeyboardInterrupt",
     "evalue": "",
     "output_type": "error",
     "traceback": [
      "\u001b[0;31m---------------------------------------------------------------------------\u001b[0m",
      "\u001b[0;31mKeyboardInterrupt\u001b[0m                         Traceback (most recent call last)",
      "\u001b[0;32m<ipython-input-2-d4c9d370f215>\u001b[0m in \u001b[0;36m<module>\u001b[0;34m()\u001b[0m\n\u001b[1;32m      7\u001b[0m \u001b[0;31m# initialize a factory for the 'go0' gauge optimization within the 'default' estimate\u001b[0m\u001b[0;34m\u001b[0m\u001b[0;34m\u001b[0m\u001b[0m\n\u001b[1;32m      8\u001b[0m \u001b[0mcrfact\u001b[0m \u001b[0;34m=\u001b[0m \u001b[0mresults\u001b[0m\u001b[0;34m.\u001b[0m\u001b[0mestimates\u001b[0m\u001b[0;34m[\u001b[0m\u001b[0;34m'default'\u001b[0m\u001b[0;34m]\u001b[0m\u001b[0;34m.\u001b[0m\u001b[0madd_confidence_region_factory\u001b[0m\u001b[0;34m(\u001b[0m\u001b[0;34m'go0'\u001b[0m\u001b[0;34m,\u001b[0m \u001b[0;34m'final'\u001b[0m\u001b[0;34m)\u001b[0m\u001b[0;34m\u001b[0m\u001b[0m\n\u001b[0;32m----> 9\u001b[0;31m \u001b[0mcrfact\u001b[0m\u001b[0;34m.\u001b[0m\u001b[0mcompute_hessian\u001b[0m\u001b[0;34m(\u001b[0m\u001b[0mcomm\u001b[0m\u001b[0;34m=\u001b[0m\u001b[0mcomm\u001b[0m\u001b[0;34m)\u001b[0m \u001b[0;31m#optionally use multiple processors\u001b[0m\u001b[0;34m\u001b[0m\u001b[0m\n\u001b[0m\u001b[1;32m     10\u001b[0m \u001b[0mcrfact\u001b[0m\u001b[0;34m.\u001b[0m\u001b[0mproject_hessian\u001b[0m\u001b[0;34m(\u001b[0m\u001b[0;34m'intrinsic error'\u001b[0m\u001b[0;34m)\u001b[0m\u001b[0;34m\u001b[0m\u001b[0m\n\u001b[1;32m     11\u001b[0m \u001b[0;34m\u001b[0m\u001b[0m\n",
      "\u001b[0;32m/Users/enielse/research/pyGSTi/packages/pygsti/objects/confidenceregionfactory.py\u001b[0m in \u001b[0;36mcompute_hessian\u001b[0;34m(self, comm, memLimit)\u001b[0m\n\u001b[1;32m    232\u001b[0m                                           \u001b[0mminProbClip\u001b[0m\u001b[0;34m,\u001b[0m \u001b[0mprobClipInterval\u001b[0m\u001b[0;34m,\u001b[0m \u001b[0mradius\u001b[0m\u001b[0;34m,\u001b[0m\u001b[0;34m\u001b[0m\u001b[0m\n\u001b[1;32m    233\u001b[0m                                           \u001b[0mcomm\u001b[0m\u001b[0;34m=\u001b[0m\u001b[0mcomm\u001b[0m\u001b[0;34m,\u001b[0m \u001b[0mmemLimit\u001b[0m\u001b[0;34m=\u001b[0m\u001b[0mmemLimit\u001b[0m\u001b[0;34m,\u001b[0m \u001b[0mverbosity\u001b[0m\u001b[0;34m=\u001b[0m\u001b[0mvb\u001b[0m\u001b[0;34m,\u001b[0m\u001b[0;34m\u001b[0m\u001b[0m\n\u001b[0;32m--> 234\u001b[0;31m                                           gateLabelAliases=aliases)\n\u001b[0m\u001b[1;32m    235\u001b[0m \u001b[0;34m\u001b[0m\u001b[0m\n\u001b[1;32m    236\u001b[0m             nonMarkRadiusSq = max( 2*(_tools.logl_max(gateset, dataset)\n",
      "\u001b[0;32m/Users/enielse/research/pyGSTi/packages/pygsti/tools/likelihoodfns.py\u001b[0m in \u001b[0;36mlogl_hessian\u001b[0;34m(gateset, dataset, gatestring_list, minProbClip, probClipInterval, radius, poissonPicture, check, comm, memLimit, gateLabelAliases, verbosity)\u001b[0m\n\u001b[1;32m    629\u001b[0m         \u001b[0mk\u001b[0m\u001b[0;34m,\u001b[0m\u001b[0mkmax\u001b[0m \u001b[0;34m=\u001b[0m \u001b[0;36m0\u001b[0m\u001b[0;34m,\u001b[0m\u001b[0mlen\u001b[0m\u001b[0;34m(\u001b[0m\u001b[0mmySliceTupList\u001b[0m\u001b[0;34m)\u001b[0m\u001b[0;34m\u001b[0m\u001b[0m\n\u001b[1;32m    630\u001b[0m         for (slice1,slice2,hprobs,dprobs12) in gateset.bulk_hprobs_by_block(\n\u001b[0;32m--> 631\u001b[0;31m             evalSubTree, mySliceTupList, True, blkComm):\n\u001b[0m\u001b[1;32m    632\u001b[0m             \u001b[0mrank\u001b[0m \u001b[0;34m=\u001b[0m \u001b[0mcomm\u001b[0m\u001b[0;34m.\u001b[0m\u001b[0mGet_rank\u001b[0m\u001b[0;34m(\u001b[0m\u001b[0;34m)\u001b[0m \u001b[0;32mif\u001b[0m \u001b[0;34m(\u001b[0m\u001b[0mcomm\u001b[0m \u001b[0;32mis\u001b[0m \u001b[0;32mnot\u001b[0m \u001b[0;32mNone\u001b[0m\u001b[0;34m)\u001b[0m \u001b[0;32melse\u001b[0m \u001b[0;36m0\u001b[0m\u001b[0;34m\u001b[0m\u001b[0m\n\u001b[1;32m    633\u001b[0m \u001b[0;34m\u001b[0m\u001b[0m\n",
      "\u001b[0;32m/Users/enielse/research/pyGSTi/packages/pygsti/objects/gatematrixcalc.py\u001b[0m in \u001b[0;36mbulk_hprobs_by_block\u001b[0;34m(self, evalTree, wrtSlicesList, bReturnDProbs12, comm)\u001b[0m\n\u001b[1;32m   2658\u001b[0m             hProdCache = self._compute_hproduct_cache(\n\u001b[1;32m   2659\u001b[0m                 \u001b[0mevalTree\u001b[0m\u001b[0;34m,\u001b[0m \u001b[0mprodCache\u001b[0m\u001b[0;34m,\u001b[0m \u001b[0mdProdCache1\u001b[0m\u001b[0;34m,\u001b[0m \u001b[0mdProdCache2\u001b[0m\u001b[0;34m,\u001b[0m\u001b[0;34m\u001b[0m\u001b[0m\n\u001b[0;32m-> 2660\u001b[0;31m                 scaleCache, comm, wrtSlice1, wrtSlice2)\n\u001b[0m\u001b[1;32m   2661\u001b[0m             \u001b[0mhGs\u001b[0m \u001b[0;34m=\u001b[0m \u001b[0mevalTree\u001b[0m\u001b[0;34m.\u001b[0m\u001b[0mfinal_view\u001b[0m\u001b[0;34m(\u001b[0m\u001b[0mhProdCache\u001b[0m\u001b[0;34m,\u001b[0m \u001b[0maxis\u001b[0m\u001b[0;34m=\u001b[0m\u001b[0;36m0\u001b[0m\u001b[0;34m)\u001b[0m\u001b[0;34m\u001b[0m\u001b[0m\n\u001b[1;32m   2662\u001b[0m \u001b[0;34m\u001b[0m\u001b[0m\n",
      "\u001b[0;32m/Users/enielse/research/pyGSTi/packages/pygsti/objects/gatematrixcalc.py\u001b[0m in \u001b[0;36m_compute_hproduct_cache\u001b[0;34m(self, evalTree, prodCache, dProdCache1, dProdCache2, scaleCache, comm, wrtSlice1, wrtSlice2)\u001b[0m\n\u001b[1;32m   1084\u001b[0m             \u001b[0mdLdR_sym\u001b[0m \u001b[0;34m=\u001b[0m \u001b[0mdLdRa\u001b[0m \u001b[0;34m+\u001b[0m \u001b[0m_np\u001b[0m\u001b[0;34m.\u001b[0m\u001b[0mswapaxes\u001b[0m\u001b[0;34m(\u001b[0m\u001b[0mdLdRb\u001b[0m\u001b[0;34m,\u001b[0m\u001b[0;36m0\u001b[0m\u001b[0;34m,\u001b[0m\u001b[0;36m1\u001b[0m\u001b[0;34m)\u001b[0m\u001b[0;34m\u001b[0m\u001b[0m\n\u001b[1;32m   1085\u001b[0m \u001b[0;34m\u001b[0m\u001b[0m\n\u001b[0;32m-> 1086\u001b[0;31m             \u001b[0mhProdCache\u001b[0m\u001b[0;34m[\u001b[0m\u001b[0mi\u001b[0m\u001b[0;34m]\u001b[0m \u001b[0;34m=\u001b[0m \u001b[0m_np\u001b[0m\u001b[0;34m.\u001b[0m\u001b[0mdot\u001b[0m\u001b[0;34m(\u001b[0m\u001b[0mhL\u001b[0m\u001b[0;34m,\u001b[0m \u001b[0mR\u001b[0m\u001b[0;34m)\u001b[0m \u001b[0;34m+\u001b[0m \u001b[0mdLdR_sym\u001b[0m \u001b[0;34m+\u001b[0m \u001b[0m_np\u001b[0m\u001b[0;34m.\u001b[0m\u001b[0mtranspose\u001b[0m\u001b[0;34m(\u001b[0m\u001b[0m_np\u001b[0m\u001b[0;34m.\u001b[0m\u001b[0mdot\u001b[0m\u001b[0;34m(\u001b[0m\u001b[0mL\u001b[0m\u001b[0;34m,\u001b[0m\u001b[0mhR\u001b[0m\u001b[0;34m)\u001b[0m\u001b[0;34m,\u001b[0m\u001b[0;34m(\u001b[0m\u001b[0;36m1\u001b[0m\u001b[0;34m,\u001b[0m\u001b[0;36m2\u001b[0m\u001b[0;34m,\u001b[0m\u001b[0;36m0\u001b[0m\u001b[0;34m,\u001b[0m\u001b[0;36m3\u001b[0m\u001b[0;34m)\u001b[0m\u001b[0;34m)\u001b[0m\u001b[0;34m\u001b[0m\u001b[0m\n\u001b[0m\u001b[1;32m   1087\u001b[0m \u001b[0;34m\u001b[0m\u001b[0m\n\u001b[1;32m   1088\u001b[0m             \u001b[0mscale\u001b[0m \u001b[0;34m=\u001b[0m \u001b[0mscaleCache\u001b[0m\u001b[0;34m[\u001b[0m\u001b[0mi\u001b[0m\u001b[0;34m]\u001b[0m \u001b[0;34m-\u001b[0m \u001b[0;34m(\u001b[0m\u001b[0mscaleCache\u001b[0m\u001b[0;34m[\u001b[0m\u001b[0miLeft\u001b[0m\u001b[0;34m]\u001b[0m \u001b[0;34m+\u001b[0m \u001b[0mscaleCache\u001b[0m\u001b[0;34m[\u001b[0m\u001b[0miRight\u001b[0m\u001b[0;34m]\u001b[0m\u001b[0;34m)\u001b[0m\u001b[0;34m\u001b[0m\u001b[0m\n",
      "\u001b[0;31mKeyboardInterrupt\u001b[0m: "
     ]
    }
   ],
   "source": [
    "# error bars in reports require the presence of a fully-initialized\n",
    "# \"confidence region factory\" within the relevant Estimate object.\n",
    "# In most cases \"fully-initialized\" means that a Hessian has been \n",
    "# computed and projected onto the non-gauge space.\n",
    "start = time.time()\n",
    "\n",
    "# initialize a factory for the 'go0' gauge optimization within the 'default' estimate\n",
    "crfact = results.estimates['default'].add_confidence_region_factory('go0', 'final')\n",
    "crfact.compute_hessian(comm=comm) #optionally use multiple processors\n",
    "crfact.project_hessian('intrinsic error')\n",
    "\n",
    "end = time.time()\n",
    "print(\"Total time=%f hours\" % ((end - start) / 3600.0))"
   ]
  },
  {
   "cell_type": "markdown",
   "metadata": {
    "deletable": true,
    "editable": true
   },
   "source": [
    "Note above cell was executed for demonstration purposes, and was **keyboard-interrupted intentionally** since it would have taken forever on a single processor."
   ]
  },
  {
   "cell_type": "code",
   "execution_count": null,
   "metadata": {
    "collapsed": true,
    "deletable": true,
    "editable": true
   },
   "outputs": [],
   "source": [
    "#write results back to file\n",
    "with open(\"example_files/easy_2q_results_withCI.pkl\",\"wb\") as f:\n",
    "    pickle.dump(results, f)"
   ]
  },
  {
   "cell_type": "code",
   "execution_count": null,
   "metadata": {
    "collapsed": true,
    "deletable": true,
    "editable": true
   },
   "outputs": [],
   "source": []
  }
 ],
 "metadata": {
  "kernelspec": {
   "display_name": "Python 3",
   "language": "python",
   "name": "python3"
  },
  "language_info": {
   "codemirror_mode": {
    "name": "ipython",
    "version": 3
   },
   "file_extension": ".py",
   "mimetype": "text/x-python",
   "name": "python",
   "nbconvert_exporter": "python",
   "pygments_lexer": "ipython3",
   "version": "3.5.2"
  }
 },
 "nbformat": 4,
 "nbformat_minor": 2
}
